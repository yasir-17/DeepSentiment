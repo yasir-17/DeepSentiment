{
 "cells": [
  {
   "cell_type": "code",
   "execution_count": 5,
   "id": "dfc25ee5-60ed-4d8a-b3f1-d690148f041a",
   "metadata": {
    "tags": []
   },
   "outputs": [],
   "source": [
    "import gradio as gr\n",
    "import torch\n",
    "import numpy as np\n",
    "import pandas as pd\n",
    "import plotly.graph_objects as go\n",
    "from datetime import datetime, timedelta\n",
    "import torch.nn as nn\n",
    "import torch.optim as optim\n",
    "from sklearn.preprocessing import MinMaxScaler\n",
    "from sklearn.model_selection import train_test_split\n",
    "from sklearn.metrics import mean_squared_error, mean_absolute_error, r2_score\n",
    "from torch.utils.data import DataLoader, TensorDataset\n",
    "import matplotlib.pyplot as plt\n",
    "import glob\n",
    "import os"
   ]
  },
  {
   "cell_type": "code",
   "execution_count": 6,
   "id": "dc632a32-c311-466f-bbf8-cfb7f22e4939",
   "metadata": {
    "tags": []
   },
   "outputs": [],
   "source": [
    "class LSTMModel(nn.Module):\n",
    "    def __init__(self, input_dim, hidden_dim, layer_dim, output_dim, dropout_prob=0.3):\n",
    "        super(LSTMModel, self).__init__()\n",
    "        self.hidden_dim = hidden_dim\n",
    "        self.layer_dim = layer_dim\n",
    "        self.lstm = nn.LSTM(input_dim, hidden_dim, layer_dim, batch_first=True, bidirectional=True, dropout=dropout_prob)\n",
    "        self.fc1 = nn.Linear(hidden_dim * 2, 32)\n",
    "        self.fc2 = nn.Linear(32, output_dim)\n",
    "        self.relu = nn.ReLU()\n",
    "        self.dropout = nn.Dropout(dropout_prob)\n",
    "    \n",
    "    def forward(self, x):\n",
    "        h0 = torch.zeros(self.layer_dim * 2, x.size(0), self.hidden_dim).requires_grad_()\n",
    "        c0 = torch.zeros(self.layer_dim * 2, x.size(0), self.hidden_dim).requires_grad_()\n",
    "        out, _ = self.lstm(x, (h0.detach(), c0.detach()))\n",
    "        out = self.fc1(out[:, -1, :])\n",
    "        out = self.dropout(self.relu(out))\n",
    "        out = self.fc2(out)\n",
    "        return out"
   ]
  },
  {
   "cell_type": "code",
   "execution_count": 7,
   "id": "0a0fe4ac-b9ad-4851-a2f0-8d16b13d1eb9",
   "metadata": {
    "tags": []
   },
   "outputs": [],
   "source": [
    "def prepare_stock_data(df, ma_periods=[5, 10, 20, 50]):\n",
    "    \"\"\"Prepare stock data with the same preprocessing as training\"\"\"\n",
    "    data = df.copy()\n",
    "    data['Date'] = pd.to_datetime(data['Date'])\n",
    "    data.set_index('Date', inplace=True)\n",
    "    \n",
    "    for period in ma_periods:\n",
    "        data[f'MA_{period}'] = data['Adj Close'].rolling(window=period).mean()\n",
    "    \n",
    "    data['Price_Change'] = data['Adj Close'].pct_change()\n",
    "    data['Volume_Change'] = data['Volume'].pct_change()\n",
    "    \n",
    "    selected_features = ['Adj Close', 'Volume', 'Price_Change', 'Volume_Change', 'sentiment'] + \\\n",
    "                       [f'MA_{period}' for period in ma_periods]\n",
    "    \n",
    "    processed_data = data[selected_features]\n",
    "    processed_data.dropna(inplace=True)\n",
    "    return processed_data\n"
   ]
  },
  {
   "cell_type": "code",
   "execution_count": 8,
   "id": "72147945-cedf-45d5-9ca0-4ea10635ff86",
   "metadata": {
    "tags": []
   },
   "outputs": [],
   "source": [
    "def create_sequences(data, sequence_length):\n",
    "    \"\"\"Create sequences from data\"\"\"\n",
    "    X, y = [], []\n",
    "    for i in range(len(data) - sequence_length):\n",
    "        X.append(data[i:(i + sequence_length), :])\n",
    "        y.append(data[i + sequence_length, 0])\n",
    "    return np.array(X), np.array(y)"
   ]
  },
  {
   "cell_type": "code",
   "execution_count": 9,
   "id": "409b394a-2c9b-4100-ba85-816bf159207b",
   "metadata": {
    "tags": []
   },
   "outputs": [],
   "source": [
    "def load_model(stock_symbol):\n",
    "    \"\"\"Load the saved model and scaler for a specific stock\"\"\"\n",
    "    try:\n",
    "        model_state = torch.load(f'stock_model_{stock_symbol.lower()}.pth')\n",
    "        \n",
    "        loaded_model = LSTMModel(input_dim=9, hidden_dim=128, layer_dim=2, output_dim=1)\n",
    "        loaded_model.load_state_dict(model_state['model_state_dict'])\n",
    "        loaded_model.eval()\n",
    "        \n",
    "        return loaded_model, model_state['scaler']\n",
    "    except Exception as e:\n",
    "        raise Exception(f\"Error loading model for {stock_symbol}: {str(e)}\")"
   ]
  },
  {
   "cell_type": "code",
   "execution_count": 10,
   "id": "a6f92d4e-f4bd-4b45-8498-335c12d55f4b",
   "metadata": {
    "tags": []
   },
   "outputs": [],
   "source": [
    "def get_validation_predictions(model, X_val, y_val, scaler, n_samples):\n",
    "    \"\"\"Get predictions for validation set\"\"\"\n",
    "    model.eval()\n",
    "    predictions = []\n",
    "    actuals = []\n",
    "    \n",
    "    with torch.no_grad():\n",
    "        for i in range(n_samples):\n",
    "            pred = model(torch.tensor(X_val[i:i+1], dtype=torch.float32))\n",
    "            predictions.append(pred.item())\n",
    "            actuals.append(y_val[i])\n",
    "    \n",
    "    # Inverse transform predictions and actuals\n",
    "    pred_array = np.array(predictions).reshape(-1, 1)\n",
    "    actual_array = np.array(actuals).reshape(-1, 1)\n",
    "    \n",
    "    original_shape = scaler.scale_.shape[0]\n",
    "    temp_pred = np.zeros((len(predictions), original_shape))\n",
    "    temp_actual = np.zeros((len(actuals), original_shape))\n",
    "    \n",
    "    temp_pred[:, 0] = pred_array[:, 0]\n",
    "    temp_actual[:, 0] = actual_array[:, 0]\n",
    "    \n",
    "    predictions_transformed = scaler.inverse_transform(temp_pred)[:, 0]\n",
    "    actuals_transformed = scaler.inverse_transform(temp_actual)[:, 0]\n",
    "    \n",
    "    return predictions_transformed, actuals_transformed"
   ]
  },
  {
   "cell_type": "code",
   "execution_count": 11,
   "id": "1c6563ea-a37d-4eb7-a9c3-027be1bcf29b",
   "metadata": {
    "tags": []
   },
   "outputs": [],
   "source": [
    "def create_prediction_plot(historical_values, predicted_values, actual_values, dates):\n",
    "    \"\"\"Create an interactive plot using plotly\"\"\"\n",
    "    fig = go.Figure()\n",
    "    \n",
    "    # Add historical data\n",
    "    fig.add_trace(go.Scatter(\n",
    "        x=dates[:-len(predicted_values)],\n",
    "        y=historical_values[:-len(predicted_values)],\n",
    "        name='Historical',\n",
    "        line=dict(color='blue')\n",
    "    ))\n",
    "    \n",
    "    # Add actual values\n",
    "    fig.add_trace(go.Scatter(\n",
    "        x=dates[-len(actual_values):],\n",
    "        y=actual_values,\n",
    "        name='Actual',\n",
    "        line=dict(color='green')\n",
    "    ))\n",
    "    \n",
    "    # Add predictions\n",
    "    fig.add_trace(go.Scatter(\n",
    "        x=dates[-len(predicted_values):],\n",
    "        y=predicted_values,\n",
    "        name='Predicted',\n",
    "        line=dict(color='red', dash='dash')\n",
    "    ))\n",
    "    \n",
    "    fig.update_layout(\n",
    "        title='Stock Price Prediction vs Actual Values',\n",
    "        xaxis_title='Date',\n",
    "        yaxis_title='Price',\n",
    "        hovermode='x unified'\n",
    "    )\n",
    "    \n",
    "    return fig"
   ]
  },
  {
   "cell_type": "code",
   "execution_count": 12,
   "id": "1387b943-84ad-4641-8c1a-83032889d3b8",
   "metadata": {
    "tags": []
   },
   "outputs": [],
   "source": [
    "def predict_stock_price(stock_symbol, n_samples):\n",
    "    try:\n",
    "        # Load the stock data\n",
    "        df = pd.read_csv(f\"../data/processed_stock_data_{stock_symbol.lower()}.csv\")\n",
    "        df = prepare_stock_data(df)\n",
    "        \n",
    "        # Load model and scaler\n",
    "        loaded_model, loaded_scaler = load_model(stock_symbol)\n",
    "        \n",
    "        # Prepare validation data\n",
    "        features = ['Adj Close', 'Volume', 'Price_Change', 'Volume_Change', \n",
    "                   'MA_5', 'MA_10', 'MA_20', 'MA_50', 'sentiment']\n",
    "        \n",
    "        scaled_data = loaded_scaler.transform(df[features])\n",
    "        sequence_length = 24\n",
    "        X, y = create_sequences(scaled_data, sequence_length)\n",
    "        \n",
    "        # Use last 20% as validation set\n",
    "        train_size = int(len(X) * 0.8)\n",
    "        X_val = X[train_size:]\n",
    "        y_val = y[train_size:]\n",
    "        val_dates = df.index[train_size + sequence_length:]\n",
    "        \n",
    "        # Get predictions for n_samples from validation set\n",
    "        predictions, actuals = get_validation_predictions(\n",
    "            loaded_model, X_val, y_val, loaded_scaler, n_samples\n",
    "        )\n",
    "        \n",
    "        # Create the plot\n",
    "        historical_data = df['Adj Close'].values\n",
    "        fig = create_prediction_plot(\n",
    "            historical_data, \n",
    "            predictions, \n",
    "            actuals, \n",
    "            list(df.index)[-len(historical_data):]\n",
    "        )\n",
    "        \n",
    "        # Calculate error metrics\n",
    "        mse = np.mean((actuals - predictions) ** 2)\n",
    "        rmse = np.sqrt(mse)\n",
    "        mape = np.mean(np.abs((actuals - predictions) / actuals)) * 100\n",
    "        \n",
    "        # Create summary\n",
    "        summary = pd.DataFrame({\n",
    "            'Date': val_dates[:n_samples],\n",
    "            'Actual Price': actuals,\n",
    "            'Predicted Price': predictions,\n",
    "            'Absolute Error': np.abs(actuals - predictions),\n",
    "            'Percentage Error': np.abs((actuals - predictions) / actuals) * 100\n",
    "        })\n",
    "        \n",
    "        metrics_summary = f\"\\nError Metrics:\\nRMSE: ${rmse:.2f}\\nMAPE: {mape:.2f}%\\n\\n\"\n",
    "        summary_str = metrics_summary + summary.to_string()\n",
    "        \n",
    "        return fig, summary_str\n",
    "        \n",
    "    except Exception as e:\n",
    "        return None, f\"An error occurred: {str(e)}\""
   ]
  },
  {
   "cell_type": "code",
   "execution_count": 13,
   "id": "966eb1c6-5286-48ba-8252-f6ba20d2a58d",
   "metadata": {
    "tags": []
   },
   "outputs": [
    {
     "name": "stdout",
     "output_type": "stream",
     "text": [
      "* Running on local URL:  http://127.0.0.1:7860\n",
      "\n",
      "To create a public link, set `share=True` in `launch()`.\n"
     ]
    },
    {
     "data": {
      "text/html": [
       "<div><iframe src=\"http://127.0.0.1:7860/\" width=\"100%\" height=\"500\" allow=\"autoplay; camera; microphone; clipboard-read; clipboard-write;\" frameborder=\"0\" allowfullscreen></iframe></div>"
      ],
      "text/plain": [
       "<IPython.core.display.HTML object>"
      ]
     },
     "metadata": {},
     "output_type": "display_data"
    },
    {
     "data": {
      "text/plain": []
     },
     "execution_count": 13,
     "metadata": {},
     "output_type": "execute_result"
    }
   ],
   "source": [
    "iface = gr.Interface(\n",
    "    fn=predict_stock_price,\n",
    "    inputs=[\n",
    "        gr.Dropdown(\n",
    "            choices=[\"AAPL\", \"GOOG\", \"MSFT\", \"BABA\", \"BAC\", \"D\", \"FB\", \"PCLN\", \"T\", \"AMZN\"],  \n",
    "            label=\"Stock Symbol\"\n",
    "        ),\n",
    "        gr.Slider(\n",
    "            minimum=5,\n",
    "            maximum=50,\n",
    "            step=5,\n",
    "            value=20,\n",
    "            label=\"Number of Validation Samples\"\n",
    "        )\n",
    "    ],\n",
    "    outputs=[\n",
    "        gr.Plot(label=\"Stock Price Prediction Plot\"),\n",
    "        gr.Textbox(label=\"Prediction Summary and Metrics\", lines=15)\n",
    "    ],\n",
    "    title=\"Stock Price Prediction with LSTM (Validation Testing)\",\n",
    "    description=\"Compare predicted prices with actual values from validation set.\",\n",
    ")\n",
    "\n",
    "iface.launch()"
   ]
  },
  {
   "cell_type": "code",
   "execution_count": null,
   "id": "0b59db79-7d4c-4ae5-acc1-e896df57cbb1",
   "metadata": {},
   "outputs": [],
   "source": []
  }
 ],
 "metadata": {
  "kernelspec": {
   "display_name": "hf-llm",
   "language": "python",
   "name": "hf-llm"
  },
  "language_info": {
   "codemirror_mode": {
    "name": "ipython",
    "version": 3
   },
   "file_extension": ".py",
   "mimetype": "text/x-python",
   "name": "python",
   "nbconvert_exporter": "python",
   "pygments_lexer": "ipython3",
   "version": "3.10.12"
  }
 },
 "nbformat": 4,
 "nbformat_minor": 5
}
