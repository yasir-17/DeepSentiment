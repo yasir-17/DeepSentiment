{
 "cells": [
  {
   "cell_type": "code",
   "execution_count": 3,
   "metadata": {},
   "outputs": [],
   "source": [
    "import warnings\n",
    "warnings.filterwarnings(\"ignore\")"
   ]
  },
  {
   "cell_type": "code",
   "execution_count": 4,
   "metadata": {},
   "outputs": [],
   "source": [
    "# import all the libraries\n",
    "import pandas as pd\n",
    "import os\n",
    "import json\n",
    "import matplotlib.pyplot as plt"
   ]
  },
  {
   "cell_type": "code",
   "execution_count": 5,
   "metadata": {},
   "outputs": [],
   "source": [
    "# Load stock data\n",
    "\n",
    "stock_directory = '../data/price/raw'\n",
    "stock_data = {}\n",
    "\n",
    "csv_files = [file for file in os.listdir(stock_directory) if file.endswith('.csv')]\n",
    "for file in csv_files:\n",
    "    symbol = file.split('.')[0]  # Extract stock symbol from filename\n",
    "    df = pd.read_csv(os.path.join(stock_directory, file))\n",
    "    df['Date'] = pd.to_datetime(df['Date'])\n",
    "    df.fillna(method='ffill', inplace=True)\n",
    "    stock_data[symbol] = df"
   ]
  },
  {
   "cell_type": "code",
   "execution_count": 6,
   "metadata": {},
   "outputs": [],
   "source": [
    "# import tweet data\n",
    "\n",
    "tweet_directory = '../data/tweet/raw'\n",
    "tweets_data = {}\n",
    "tweet_threshold = 500   # Minimum number of tweets required for a stock to be considered\n",
    "\n",
    "for stock_folder in os.listdir(tweet_directory):\n",
    "    stock_path = os.path.join(tweet_directory, stock_folder)\n",
    "    if os.path.isdir(stock_path):\n",
    "        all_tweets = []\n",
    "        count = 0\n",
    "        for tweet_file in os.listdir(stock_path):\n",
    "            count += 1\n",
    "            file_path = os.path.join(stock_path, tweet_file)\n",
    "            with open(file_path, 'r', encoding='utf-8') as f:\n",
    "                for line in f:\n",
    "                    try:\n",
    "                        tweet_json = json.loads(line.strip())\n",
    "                        tweet_data = {\n",
    "                            'Date': pd.to_datetime(tweet_json['created_at']),\n",
    "                            'Text': tweet_json['text'],\n",
    "                            'User': tweet_json['user']['screen_name'],\n",
    "                            'Followers': tweet_json['user']['followers_count'],\n",
    "                            'Friends': tweet_json['user']['friends_count']\n",
    "                        }\n",
    "                        all_tweets.append(tweet_data)\n",
    "                    except json.JSONDecodeError:\n",
    "                        print(f\"Error decoding JSON in file {file_path}\")\n",
    "        # if len(all_tweets) >= tweet_threshold:\n",
    "        if count >= tweet_threshold:\n",
    "            tweets_data[stock_folder] = pd.DataFrame(all_tweets)"
   ]
  },
  {
   "cell_type": "code",
   "execution_count": 7,
   "metadata": {},
   "outputs": [
    {
     "data": {
      "text/plain": [
       "27"
      ]
     },
     "execution_count": 7,
     "metadata": {},
     "output_type": "execute_result"
    }
   ],
   "source": [
    "# Filter out stock data for which we don't have tweets\n",
    "stock_data = {symbol: df for symbol, df in stock_data.items() if symbol in tweets_data}\n",
    "len(stock_data)"
   ]
  },
  {
   "cell_type": "code",
   "execution_count": 8,
   "metadata": {},
   "outputs": [],
   "source": [
    "# Convert tweet dates to date objects if not already\n",
    "for stock, df in tweets_data.items():\n",
    "    df['Date'] = pd.to_datetime(df['Date']).dt.date\n",
    "    tweets_data[stock] = df"
   ]
  },
  {
   "cell_type": "code",
   "execution_count": 9,
   "metadata": {},
   "outputs": [],
   "source": [
    "# Group tweets by date\n",
    "# This is required since we might have multiple tweets for a single date\n",
    "for stock, df in tweets_data.items():\n",
    "    grouped = df.groupby('Date').agg({\n",
    "        'Text': list,          \n",
    "        'User': list,          \n",
    "        'Followers': list,     \n",
    "        'Friends': list        \n",
    "    }).reset_index()\n",
    "\n",
    "    tweets_data[stock] = grouped"
   ]
  },
  {
   "cell_type": "code",
   "execution_count": 10,
   "metadata": {},
   "outputs": [],
   "source": [
    "# Merge stock data with tweet data\n",
    "for stock in stock_data.keys():\n",
    "    if stock in tweets_data:\n",
    "        \n",
    "        stock_data[stock]['Date'] = pd.to_datetime(stock_data[stock]['Date'])\n",
    "        tweets_data[stock]['Date'] = pd.to_datetime(tweets_data[stock]['Date'])\n",
    "\n",
    "        merged_data = stock_data[stock].merge(tweets_data[stock], on='Date', how='left')\n",
    "        \n",
    "        stock_data[stock] = merged_data"
   ]
  },
  {
   "cell_type": "code",
   "execution_count": 11,
   "metadata": {},
   "outputs": [
    {
     "data": {
      "text/plain": [
       "dict_keys(['AAPL', 'AMZN', 'BA', 'BABA', 'BAC', 'C', 'CELG', 'CSCO', 'CVX', 'D', 'DIS', 'FB', 'GE', 'GOOG', 'INTC', 'JNJ', 'JPM', 'KO', 'MCD', 'MSFT', 'PCLN', 'PFE', 'T', 'V', 'VZ', 'WMT', 'XOM'])"
      ]
     },
     "execution_count": 11,
     "metadata": {},
     "output_type": "execute_result"
    }
   ],
   "source": [
    "stock_data.keys()"
   ]
  },
  {
   "cell_type": "markdown",
   "metadata": {},
   "source": [
    "Basic detail for the data. For this assignment I am providing details of one of the stock we are going to work with - Amazon"
   ]
  },
  {
   "cell_type": "code",
   "execution_count": 12,
   "metadata": {},
   "outputs": [
    {
     "name": "stdout",
     "output_type": "stream",
     "text": [
      "<class 'pandas.core.frame.DataFrame'>\n",
      "RangeIndex: 1258 entries, 0 to 1257\n",
      "Data columns (total 11 columns):\n",
      " #   Column     Non-Null Count  Dtype         \n",
      "---  ------     --------------  -----         \n",
      " 0   Date       1258 non-null   datetime64[ns]\n",
      " 1   Open       1258 non-null   float64       \n",
      " 2   High       1258 non-null   float64       \n",
      " 3   Low        1258 non-null   float64       \n",
      " 4   Close      1258 non-null   float64       \n",
      " 5   Adj Close  1258 non-null   float64       \n",
      " 6   Volume     1258 non-null   int64         \n",
      " 7   Text       529 non-null    object        \n",
      " 8   User       529 non-null    object        \n",
      " 9   Followers  529 non-null    object        \n",
      " 10  Friends    529 non-null    object        \n",
      "dtypes: datetime64[ns](1), float64(5), int64(1), object(4)\n",
      "memory usage: 108.2+ KB\n",
      "None\n"
     ]
    }
   ],
   "source": [
    "# Display basic information about the dataset\n",
    "df = stock_data['AMZN']\n",
    "print(df.info())"
   ]
  },
  {
   "cell_type": "code",
   "execution_count": 13,
   "metadata": {},
   "outputs": [
    {
     "name": "stdout",
     "output_type": "stream",
     "text": [
      "Dataset size: (1258, 11)\n"
     ]
    }
   ],
   "source": [
    "# Get the shape of the dataset (rows, columns)\n",
    "print(\"Dataset size:\", df.shape)"
   ]
  },
  {
   "cell_type": "code",
   "execution_count": 14,
   "metadata": {},
   "outputs": [
    {
     "name": "stdout",
     "output_type": "stream",
     "text": [
      "                                Date         Open         High          Low  \\\n",
      "count                           1258  1258.000000  1258.000000  1258.000000   \n",
      "mean   2015-03-06 06:26:53.990460928   501.609142   506.091534   496.507846   \n",
      "min              2012-09-04 00:00:00   221.309998   225.160004   218.179993   \n",
      "25%              2013-12-04 06:00:00   306.372498   310.299995   303.010010   \n",
      "50%              2015-03-07 12:00:00   389.669998   392.395004   384.445007   \n",
      "75%              2016-06-05 06:00:00   713.882507   718.850006   709.467484   \n",
      "max              2017-09-01 00:00:00  1069.550049  1083.310059  1043.199951   \n",
      "std                              NaN   234.667207   235.711427   233.071006   \n",
      "\n",
      "             Close    Adj Close        Volume  \n",
      "count  1258.000000  1258.000000  1.258000e+03  \n",
      "mean    501.530740   501.530740  3.698896e+06  \n",
      "min     220.600006   220.600006  9.844000e+05  \n",
      "25%     306.547508   306.547508  2.510575e+06  \n",
      "50%     388.399994   388.399994  3.136150e+06  \n",
      "75%     714.197510   714.197510  4.196975e+06  \n",
      "max    1052.800049  1052.800049  2.385610e+07  \n",
      "std     234.496254   234.496254  2.122016e+06  \n"
     ]
    }
   ],
   "source": [
    "# Get descriptive statistics of the numerical columns\n",
    "print(df.describe())"
   ]
  },
  {
   "cell_type": "code",
   "execution_count": 15,
   "metadata": {},
   "outputs": [
    {
     "name": "stdout",
     "output_type": "stream",
     "text": [
      "Date           0\n",
      "Open           0\n",
      "High           0\n",
      "Low            0\n",
      "Close          0\n",
      "Adj Close      0\n",
      "Volume         0\n",
      "Text         729\n",
      "User         729\n",
      "Followers    729\n",
      "Friends      729\n",
      "dtype: int64\n"
     ]
    }
   ],
   "source": [
    "# Check for missing values\n",
    "print(df.isnull().sum())"
   ]
  },
  {
   "cell_type": "code",
   "execution_count": 17,
   "metadata": {},
   "outputs": [
    {
     "data": {
      "image/png": "[encoded data removed]",
      "text/plain": [
       "<Figure size 1200x600 with 1 Axes>"
      ]
     },
     "metadata": {},
     "output_type": "display_data"
    }
   ],
   "source": [
    "# Time series analysis of stock data\n",
    "# Plot the stock prices over time\n",
    "plt.figure(figsize=(12, 6))\n",
    "plt.plot(df['Date'], df['Close'], label='Close Price', color='blue')\n",
    "plt.title('Stock Close Price Over Time')\n",
    "plt.xlabel('Date')\n",
    "plt.ylabel('Close Price')\n",
    "plt.legend()\n",
    "plt.show()"
   ]
  },
  {
   "cell_type": "code",
   "execution_count": null,
   "metadata": {},
   "outputs": [],
   "source": []
  }
 ],
 "metadata": {
  "kernelspec": {
   "display_name": "Python 3",
   "language": "python",
   "name": "python3"
  },
  "language_info": {
   "codemirror_mode": {
    "name": "ipython",
    "version": 3
   },
   "file_extension": ".py",
   "mimetype": "text/x-python",
   "name": "python",
   "nbconvert_exporter": "python",
   "pygments_lexer": "ipython3",
   "version": "3.12.2"
  }
 },
 "nbformat": 4,
 "nbformat_minor": 2
}
